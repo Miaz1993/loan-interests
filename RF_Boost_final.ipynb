{
 "cells": [
  {
   "cell_type": "code",
   "execution_count": 135,
   "metadata": {},
   "outputs": [],
   "source": [
    "import pandas as pd\n",
    "from pandas import Series,DataFrame\n",
    "import io\n",
    "\n",
    "# numpy, matplotlib, seaborn\n",
    "import numpy as np\n",
    "import matplotlib.pyplot as plt\n",
    "import seaborn as sns\n",
    "sns.set_style('whitegrid')\n",
    "%matplotlib inline\n",
    "\n",
    "# machine learning\n",
    "from sklearn.svm import SVC, LinearSVC\n",
    "from sklearn.naive_bayes import GaussianNB\n",
    "from sklearn.ensemble import RandomForestRegressor\n",
    "from sklearn.ensemble import AdaBoostRegressor\n",
    "\n",
    "from sklearn.cross_validation import train_test_split\n",
    "from sklearn.cross_validation import KFold\n",
    "from sklearn.cross_validation import cross_val_score"
   ]
  },
  {
   "cell_type": "code",
   "execution_count": 136,
   "metadata": {},
   "outputs": [
    {
     "name": "stderr",
     "output_type": "stream",
     "text": [
      "C:\\Users\\pamuksu2\\AppData\\Local\\Continuum\\Anaconda3\\lib\\site-packages\\IPython\\core\\interactiveshell.py:2717: DtypeWarning: Columns (15) have mixed types. Specify dtype option on import or set low_memory=False.\n",
      "  interactivity=interactivity, compiler=compiler, result=result)\n"
     ]
    }
   ],
   "source": [
    "#make necessary conversions from percentage and dollar to float\n",
    "df = pd.read_csv(\"Data for Cleaning & Modeling.csv\")\n",
    "test_df = pd.read_csv(\"Holdout for Testing.csv\")\n",
    "# preview the data\n",
    "df.X1 = df.X1.replace('%','',regex=True).astype(float)/100\n",
    "df.X4 = df.X4.replace('[\\$,)]','',regex=True).astype(float)\n",
    "df.X5 = df.X5.replace('[\\$,)]','',regex=True).astype(float)\n",
    "df.X6 = df.X6.replace('[\\$,)]','',regex=True).astype(float)\n",
    "df.X30 = df.X30.replace('%','',regex=True).astype(float)/100\n",
    "test_df.X4 = test_df.X4.replace('[\\$,)]','',regex=True).astype(float)\n",
    "test_df.X5 = test_df.X5.replace('[\\$,)]','',regex=True).astype(float)\n",
    "test_df.X6 = test_df.X6.replace('[\\$,)]','',regex=True).astype(float)\n",
    "test_df.X30 = test_df.X30.replace('%','',regex=True).astype(float)/100"
   ]
  },
  {
   "cell_type": "markdown",
   "metadata": {},
   "source": [
    "I do not want to impute response variable, instead I redefine the rows that I am interested"
   ]
  },
  {
   "cell_type": "code",
   "execution_count": 137,
   "metadata": {},
   "outputs": [],
   "source": [
    "X=df\n",
    "df = X[np.isfinite(X['X1'])]\n",
    "#df.info()"
   ]
  },
  {
   "cell_type": "code",
   "execution_count": 138,
   "metadata": {},
   "outputs": [
    {
     "name": "stderr",
     "output_type": "stream",
     "text": [
      "C:\\Users\\pamuksu2\\AppData\\Local\\Continuum\\Anaconda3\\lib\\site-packages\\pandas\\core\\generic.py:3191: SettingWithCopyWarning: \n",
      "A value is trying to be set on a copy of a slice from a DataFrame\n",
      "\n",
      "See the caveats in the documentation: http://pandas.pydata.org/pandas-docs/stable/indexing.html#indexing-view-versus-copy\n",
      "  self._update_inplace(new_data)\n"
     ]
    }
   ],
   "source": [
    "#Income is an important variable, cant just fill it with mean or median. Instead, I got the mean of each categories of loan ratings. \n",
    "#For example if the missing value of an income for a person, lets say this person has A2 loan grade, Then missing value will \n",
    "#be filled by the average income of all A2 grade people\n",
    "df[\"X13\"].fillna(df.groupby(\"X9\")[\"X13\"].transform(\"mean\"), inplace=True)\n",
    "test_df[\"X13\"].fillna(df.groupby(\"X9\")[\"X13\"].transform(\"mean\"), inplace=True)"
   ]
  },
  {
   "cell_type": "code",
   "execution_count": 139,
   "metadata": {},
   "outputs": [
    {
     "name": "stderr",
     "output_type": "stream",
     "text": [
      "C:\\Users\\pamuksu2\\AppData\\Local\\Continuum\\Anaconda3\\lib\\site-packages\\ipykernel\\__main__.py:12: SettingWithCopyWarning: \n",
      "A value is trying to be set on a copy of a slice from a DataFrame.\n",
      "Try using .loc[row_indexer,col_indexer] = value instead\n",
      "\n",
      "See the caveats in the documentation: http://pandas.pydata.org/pandas-docs/stable/indexing.html#indexing-view-versus-copy\n",
      "C:\\Users\\pamuksu2\\AppData\\Local\\Continuum\\Anaconda3\\lib\\site-packages\\ipykernel\\__main__.py:13: FutureWarning: convert_objects is deprecated.  Use the data-type specific converters pd.to_datetime, pd.to_timedelta and pd.to_numeric.\n",
      "C:\\Users\\pamuksu2\\AppData\\Local\\Continuum\\Anaconda3\\lib\\site-packages\\ipykernel\\__main__.py:13: SettingWithCopyWarning: \n",
      "A value is trying to be set on a copy of a slice from a DataFrame.\n",
      "Try using .loc[row_indexer,col_indexer] = value instead\n",
      "\n",
      "See the caveats in the documentation: http://pandas.pydata.org/pandas-docs/stable/indexing.html#indexing-view-versus-copy\n",
      "C:\\Users\\pamuksu2\\AppData\\Local\\Continuum\\Anaconda3\\lib\\site-packages\\ipykernel\\__main__.py:16: FutureWarning: convert_objects is deprecated.  Use the data-type specific converters pd.to_datetime, pd.to_timedelta and pd.to_numeric.\n",
      "C:\\Users\\pamuksu2\\AppData\\Local\\Continuum\\Anaconda3\\lib\\site-packages\\ipykernel\\__main__.py:18: SettingWithCopyWarning: \n",
      "A value is trying to be set on a copy of a slice from a DataFrame.\n",
      "Try using .loc[row_indexer,col_indexer] = value instead\n",
      "\n",
      "See the caveats in the documentation: http://pandas.pydata.org/pandas-docs/stable/indexing.html#indexing-view-versus-copy\n",
      "C:\\Users\\pamuksu2\\AppData\\Local\\Continuum\\Anaconda3\\lib\\site-packages\\ipykernel\\__main__.py:19: FutureWarning: convert_objects is deprecated.  Use the data-type specific converters pd.to_datetime, pd.to_timedelta and pd.to_numeric.\n",
      "C:\\Users\\pamuksu2\\AppData\\Local\\Continuum\\Anaconda3\\lib\\site-packages\\ipykernel\\__main__.py:19: SettingWithCopyWarning: \n",
      "A value is trying to be set on a copy of a slice from a DataFrame.\n",
      "Try using .loc[row_indexer,col_indexer] = value instead\n",
      "\n",
      "See the caveats in the documentation: http://pandas.pydata.org/pandas-docs/stable/indexing.html#indexing-view-versus-copy\n",
      "C:\\Users\\pamuksu2\\AppData\\Local\\Continuum\\Anaconda3\\lib\\site-packages\\ipykernel\\__main__.py:22: FutureWarning: convert_objects is deprecated.  Use the data-type specific converters pd.to_datetime, pd.to_timedelta and pd.to_numeric.\n"
     ]
    }
   ],
   "source": [
    "# Do more work on X8 and X9, those columns seems valuable\n",
    "grade = {\"A\":1.0, \"B\":2.0, \"C\":3.0, \"D\":4.0, \"E\":5.0, \"F\": 6.0, \"G\":7.0}\n",
    "grade_cat = {\"A1\":11, \"A2\":12, \"A3\":13, \"A4\":14, \"A5\":15,\n",
    "             \"B1\":21, \"B2\":22, \"B3\":23, \"B4\":24, \"B5\":25,\n",
    "             \"C1\":31, \"C2\":32, \"C3\":33, \"C4\":34, \"C5\":35,\n",
    "             \"D1\":41, \"D2\":42, \"D3\":43, \"D4\":44, \"D5\":45,\n",
    "             \"E1\":51, \"E2\":52, \"E3\":53, \"E4\":54, \"E5\":55,\n",
    "             \"F1\":61, \"F2\":62, \"F3\":63, \"F4\":64, \"F5\":65,\n",
    "             \"G1\":70, \"G2\":70, \"G3\":70, \"G4\":70, \"G5\":70,\n",
    "            }\n",
    "\n",
    "df[\"X8\"] = df[\"X8\"].replace(grade)\n",
    "df[\"X8\"] = df[\"X8\"].convert_objects(convert_numeric=True)\n",
    "\n",
    "test_df[\"X8\"] = test_df[\"X8\"].replace(grade)\n",
    "test_df[\"X8\"] = test_df[\"X8\"].convert_objects(convert_numeric=True)\n",
    "\n",
    "df[\"X9\"] = df[\"X9\"].replace(grade_cat)\n",
    "df[\"X9\"] = df[\"X9\"].convert_objects(convert_numeric=True)\n",
    "\n",
    "test_df[\"X9\"] = test_df[\"X9\"].replace(grade_cat)\n",
    "test_df[\"X9\"] = test_df[\"X9\"].convert_objects(convert_numeric=True)\n",
    "\n",
    "df = df[np.isfinite(df[\"X9\"])]\n",
    "test_df = test_df[np.isfinite(test_df[\"X9\"])]"
   ]
  },
  {
   "cell_type": "code",
   "execution_count": 140,
   "metadata": {},
   "outputs": [
    {
     "name": "stderr",
     "output_type": "stream",
     "text": [
      "C:\\Users\\pamuksu2\\AppData\\Local\\Continuum\\Anaconda3\\lib\\site-packages\\ipykernel\\__main__.py:3: FutureWarning: convert_objects is deprecated.  Use the data-type specific converters pd.to_datetime, pd.to_timedelta and pd.to_numeric.\n",
      "  app.launch_new_instance()\n",
      "C:\\Users\\pamuksu2\\AppData\\Local\\Continuum\\Anaconda3\\lib\\site-packages\\ipykernel\\__main__.py:7: FutureWarning: convert_objects is deprecated.  Use the data-type specific converters pd.to_datetime, pd.to_timedelta and pd.to_numeric.\n"
     ]
    }
   ],
   "source": [
    "# X11 - work year may be valuable in numeric form\n",
    "df.X11 = df.X11.replace('\\D+','',regex=True)\n",
    "df.X11 = df.X11.convert_objects(convert_numeric=True)\n",
    "df.X11.fillna(1.0, inplace=True)\n",
    "\n",
    "test_df.X11 = test_df.X11.replace('\\D+','',regex=True)\n",
    "test_df.X11 = test_df.X11.convert_objects(convert_numeric=True)\n",
    "test_df.X11.fillna(1.0, inplace=True)\n"
   ]
  },
  {
   "cell_type": "code",
   "execution_count": 141,
   "metadata": {},
   "outputs": [
    {
     "name": "stderr",
     "output_type": "stream",
     "text": [
      "C:\\Users\\pamuksu2\\AppData\\Local\\Continuum\\Anaconda3\\lib\\site-packages\\ipykernel\\__main__.py:3: FutureWarning: convert_objects is deprecated.  Use the data-type specific converters pd.to_datetime, pd.to_timedelta and pd.to_numeric.\n",
      "  app.launch_new_instance()\n"
     ]
    }
   ],
   "source": [
    "#I need to utilize from zip code variable, categorical separation would make more sense but lets make it numeric for now\n",
    "df.X19 = df.X19.astype(str).str[0]\n",
    "test_df.X19 = test_df.X19.astype(str).str[0]\n",
    "df.X19 = df.X19.convert_objects(convert_numeric=True)\n",
    "test_df.X19 = test_df.X19.convert_objects(convert_numeric=True)\n",
    "df.X19.fillna(0.0, inplace=True)\n",
    "test_df.X19.fillna(0.0, inplace=True)\n"
   ]
  },
  {
   "cell_type": "code",
   "execution_count": 18,
   "metadata": {},
   "outputs": [
    {
     "data": {
      "text/html": [
       "<div>\n",
       "<table border=\"1\" class=\"dataframe\">\n",
       "  <thead>\n",
       "    <tr style=\"text-align: right;\">\n",
       "      <th></th>\n",
       "      <th>X1</th>\n",
       "      <th>X2</th>\n",
       "      <th>X3</th>\n",
       "      <th>X4</th>\n",
       "      <th>X5</th>\n",
       "      <th>X6</th>\n",
       "      <th>X8</th>\n",
       "      <th>X9</th>\n",
       "      <th>X11</th>\n",
       "      <th>X13</th>\n",
       "      <th>...</th>\n",
       "      <th>X21</th>\n",
       "      <th>X22</th>\n",
       "      <th>X24</th>\n",
       "      <th>X25</th>\n",
       "      <th>X26</th>\n",
       "      <th>X27</th>\n",
       "      <th>X28</th>\n",
       "      <th>X29</th>\n",
       "      <th>X30</th>\n",
       "      <th>X31</th>\n",
       "    </tr>\n",
       "  </thead>\n",
       "  <tbody>\n",
       "    <tr>\n",
       "      <th>X1</th>\n",
       "      <td>1.000000</td>\n",
       "      <td>0.034628</td>\n",
       "      <td>0.036238</td>\n",
       "      <td>0.178780</td>\n",
       "      <td>0.179757</td>\n",
       "      <td>0.182324</td>\n",
       "      <td>0.954516</td>\n",
       "      <td>0.971480</td>\n",
       "      <td>0.035614</td>\n",
       "      <td>-0.034799</td>\n",
       "      <td>...</td>\n",
       "      <td>0.157820</td>\n",
       "      <td>0.092090</td>\n",
       "      <td>0.209053</td>\n",
       "      <td>-0.056276</td>\n",
       "      <td>-0.030287</td>\n",
       "      <td>0.020067</td>\n",
       "      <td>0.072836</td>\n",
       "      <td>0.009964</td>\n",
       "      <td>0.343195</td>\n",
       "      <td>-0.026944</td>\n",
       "    </tr>\n",
       "    <tr>\n",
       "      <th>X2</th>\n",
       "      <td>0.034628</td>\n",
       "      <td>1.000000</td>\n",
       "      <td>0.994944</td>\n",
       "      <td>0.075747</td>\n",
       "      <td>0.080057</td>\n",
       "      <td>0.089241</td>\n",
       "      <td>0.090103</td>\n",
       "      <td>0.090886</td>\n",
       "      <td>0.036423</td>\n",
       "      <td>0.031274</td>\n",
       "      <td>...</td>\n",
       "      <td>0.120393</td>\n",
       "      <td>0.078361</td>\n",
       "      <td>-0.015960</td>\n",
       "      <td>-0.037291</td>\n",
       "      <td>-0.148163</td>\n",
       "      <td>0.114085</td>\n",
       "      <td>0.120493</td>\n",
       "      <td>0.021840</td>\n",
       "      <td>-0.006798</td>\n",
       "      <td>0.094504</td>\n",
       "    </tr>\n",
       "    <tr>\n",
       "      <th>X3</th>\n",
       "      <td>0.036238</td>\n",
       "      <td>0.994944</td>\n",
       "      <td>1.000000</td>\n",
       "      <td>0.078809</td>\n",
       "      <td>0.083259</td>\n",
       "      <td>0.092792</td>\n",
       "      <td>0.088844</td>\n",
       "      <td>0.089598</td>\n",
       "      <td>0.039842</td>\n",
       "      <td>0.031757</td>\n",
       "      <td>...</td>\n",
       "      <td>0.118938</td>\n",
       "      <td>0.078307</td>\n",
       "      <td>-0.017671</td>\n",
       "      <td>-0.037237</td>\n",
       "      <td>-0.141444</td>\n",
       "      <td>0.113139</td>\n",
       "      <td>0.122349</td>\n",
       "      <td>0.022024</td>\n",
       "      <td>-0.005749</td>\n",
       "      <td>0.093521</td>\n",
       "    </tr>\n",
       "    <tr>\n",
       "      <th>X4</th>\n",
       "      <td>0.178780</td>\n",
       "      <td>0.075747</td>\n",
       "      <td>0.078809</td>\n",
       "      <td>1.000000</td>\n",
       "      <td>0.998286</td>\n",
       "      <td>0.994048</td>\n",
       "      <td>0.177287</td>\n",
       "      <td>0.182014</td>\n",
       "      <td>0.135405</td>\n",
       "      <td>0.326455</td>\n",
       "      <td>...</td>\n",
       "      <td>0.059974</td>\n",
       "      <td>0.008841</td>\n",
       "      <td>-0.001913</td>\n",
       "      <td>-0.038960</td>\n",
       "      <td>0.008761</td>\n",
       "      <td>0.204486</td>\n",
       "      <td>-0.075370</td>\n",
       "      <td>0.343620</td>\n",
       "      <td>0.118455</td>\n",
       "      <td>0.237797</td>\n",
       "    </tr>\n",
       "    <tr>\n",
       "      <th>X5</th>\n",
       "      <td>0.179757</td>\n",
       "      <td>0.080057</td>\n",
       "      <td>0.083259</td>\n",
       "      <td>0.998286</td>\n",
       "      <td>1.000000</td>\n",
       "      <td>0.996125</td>\n",
       "      <td>0.176984</td>\n",
       "      <td>0.181624</td>\n",
       "      <td>0.135841</td>\n",
       "      <td>0.325759</td>\n",
       "      <td>...</td>\n",
       "      <td>0.061531</td>\n",
       "      <td>0.009477</td>\n",
       "      <td>-0.002134</td>\n",
       "      <td>-0.039022</td>\n",
       "      <td>0.008360</td>\n",
       "      <td>0.205374</td>\n",
       "      <td>-0.074805</td>\n",
       "      <td>0.343174</td>\n",
       "      <td>0.119811</td>\n",
       "      <td>0.237668</td>\n",
       "    </tr>\n",
       "    <tr>\n",
       "      <th>X6</th>\n",
       "      <td>0.182324</td>\n",
       "      <td>0.089241</td>\n",
       "      <td>0.092792</td>\n",
       "      <td>0.994048</td>\n",
       "      <td>0.996125</td>\n",
       "      <td>1.000000</td>\n",
       "      <td>0.175727</td>\n",
       "      <td>0.180328</td>\n",
       "      <td>0.137930</td>\n",
       "      <td>0.323976</td>\n",
       "      <td>...</td>\n",
       "      <td>0.065712</td>\n",
       "      <td>0.010380</td>\n",
       "      <td>-0.003835</td>\n",
       "      <td>-0.035000</td>\n",
       "      <td>0.051230</td>\n",
       "      <td>0.206444</td>\n",
       "      <td>-0.073140</td>\n",
       "      <td>0.341424</td>\n",
       "      <td>0.122296</td>\n",
       "      <td>0.238120</td>\n",
       "    </tr>\n",
       "    <tr>\n",
       "      <th>X8</th>\n",
       "      <td>0.954516</td>\n",
       "      <td>0.090103</td>\n",
       "      <td>0.088844</td>\n",
       "      <td>0.177287</td>\n",
       "      <td>0.176984</td>\n",
       "      <td>0.175727</td>\n",
       "      <td>1.000000</td>\n",
       "      <td>0.994267</td>\n",
       "      <td>0.026727</td>\n",
       "      <td>-0.025186</td>\n",
       "      <td>...</td>\n",
       "      <td>0.138979</td>\n",
       "      <td>0.090037</td>\n",
       "      <td>0.203653</td>\n",
       "      <td>-0.057573</td>\n",
       "      <td>-0.068812</td>\n",
       "      <td>0.018652</td>\n",
       "      <td>0.070241</td>\n",
       "      <td>0.008834</td>\n",
       "      <td>0.310831</td>\n",
       "      <td>-0.023347</td>\n",
       "    </tr>\n",
       "    <tr>\n",
       "      <th>X9</th>\n",
       "      <td>0.971480</td>\n",
       "      <td>0.090886</td>\n",
       "      <td>0.089598</td>\n",
       "      <td>0.182014</td>\n",
       "      <td>0.181624</td>\n",
       "      <td>0.180328</td>\n",
       "      <td>0.994267</td>\n",
       "      <td>1.000000</td>\n",
       "      <td>0.027369</td>\n",
       "      <td>-0.025750</td>\n",
       "      <td>...</td>\n",
       "      <td>0.142357</td>\n",
       "      <td>0.091651</td>\n",
       "      <td>0.208165</td>\n",
       "      <td>-0.058557</td>\n",
       "      <td>-0.071527</td>\n",
       "      <td>0.018388</td>\n",
       "      <td>0.072022</td>\n",
       "      <td>0.010107</td>\n",
       "      <td>0.319435</td>\n",
       "      <td>-0.024401</td>\n",
       "    </tr>\n",
       "    <tr>\n",
       "      <th>X11</th>\n",
       "      <td>0.035614</td>\n",
       "      <td>0.036423</td>\n",
       "      <td>0.039842</td>\n",
       "      <td>0.135405</td>\n",
       "      <td>0.135841</td>\n",
       "      <td>0.137930</td>\n",
       "      <td>0.026727</td>\n",
       "      <td>0.027369</td>\n",
       "      <td>1.000000</td>\n",
       "      <td>0.084987</td>\n",
       "      <td>...</td>\n",
       "      <td>0.039530</td>\n",
       "      <td>0.032886</td>\n",
       "      <td>-0.003188</td>\n",
       "      <td>-0.017613</td>\n",
       "      <td>0.057226</td>\n",
       "      <td>0.056123</td>\n",
       "      <td>0.021082</td>\n",
       "      <td>0.101830</td>\n",
       "      <td>0.050894</td>\n",
       "      <td>0.116739</td>\n",
       "    </tr>\n",
       "    <tr>\n",
       "      <th>X13</th>\n",
       "      <td>-0.034799</td>\n",
       "      <td>0.031274</td>\n",
       "      <td>0.031757</td>\n",
       "      <td>0.326455</td>\n",
       "      <td>0.325759</td>\n",
       "      <td>0.323976</td>\n",
       "      <td>-0.025186</td>\n",
       "      <td>-0.025750</td>\n",
       "      <td>0.084987</td>\n",
       "      <td>1.000000</td>\n",
       "      <td>...</td>\n",
       "      <td>-0.167787</td>\n",
       "      <td>0.054300</td>\n",
       "      <td>0.058702</td>\n",
       "      <td>-0.052331</td>\n",
       "      <td>-0.084260</td>\n",
       "      <td>0.141685</td>\n",
       "      <td>-0.016197</td>\n",
       "      <td>0.289232</td>\n",
       "      <td>0.028376</td>\n",
       "      <td>0.203865</td>\n",
       "    </tr>\n",
       "    <tr>\n",
       "      <th>X19</th>\n",
       "      <td>-0.005979</td>\n",
       "      <td>-0.012771</td>\n",
       "      <td>-0.012118</td>\n",
       "      <td>-0.010203</td>\n",
       "      <td>-0.010150</td>\n",
       "      <td>-0.009816</td>\n",
       "      <td>-0.010179</td>\n",
       "      <td>-0.010025</td>\n",
       "      <td>-0.009150</td>\n",
       "      <td>-0.007439</td>\n",
       "      <td>...</td>\n",
       "      <td>0.002486</td>\n",
       "      <td>-0.017135</td>\n",
       "      <td>-0.004476</td>\n",
       "      <td>0.020234</td>\n",
       "      <td>0.059215</td>\n",
       "      <td>-0.051950</td>\n",
       "      <td>-0.005250</td>\n",
       "      <td>-0.020641</td>\n",
       "      <td>0.024807</td>\n",
       "      <td>-0.029135</td>\n",
       "    </tr>\n",
       "    <tr>\n",
       "      <th>X21</th>\n",
       "      <td>0.157820</td>\n",
       "      <td>0.120393</td>\n",
       "      <td>0.118938</td>\n",
       "      <td>0.059974</td>\n",
       "      <td>0.061531</td>\n",
       "      <td>0.065712</td>\n",
       "      <td>0.138979</td>\n",
       "      <td>0.142357</td>\n",
       "      <td>0.039530</td>\n",
       "      <td>-0.167787</td>\n",
       "      <td>...</td>\n",
       "      <td>1.000000</td>\n",
       "      <td>-0.002898</td>\n",
       "      <td>-0.000898</td>\n",
       "      <td>0.009366</td>\n",
       "      <td>0.084652</td>\n",
       "      <td>0.303921</td>\n",
       "      <td>-0.043725</td>\n",
       "      <td>0.150947</td>\n",
       "      <td>0.206273</td>\n",
       "      <td>0.229893</td>\n",
       "    </tr>\n",
       "    <tr>\n",
       "      <th>X22</th>\n",
       "      <td>0.092090</td>\n",
       "      <td>0.078361</td>\n",
       "      <td>0.078307</td>\n",
       "      <td>0.008841</td>\n",
       "      <td>0.009477</td>\n",
       "      <td>0.010380</td>\n",
       "      <td>0.090037</td>\n",
       "      <td>0.091651</td>\n",
       "      <td>0.032886</td>\n",
       "      <td>0.054300</td>\n",
       "      <td>...</td>\n",
       "      <td>-0.002898</td>\n",
       "      <td>1.000000</td>\n",
       "      <td>0.023781</td>\n",
       "      <td>-0.575108</td>\n",
       "      <td>-0.073097</td>\n",
       "      <td>0.063256</td>\n",
       "      <td>-0.008250</td>\n",
       "      <td>-0.031996</td>\n",
       "      <td>-0.011543</td>\n",
       "      <td>0.133937</td>\n",
       "    </tr>\n",
       "    <tr>\n",
       "      <th>X24</th>\n",
       "      <td>0.209053</td>\n",
       "      <td>-0.015960</td>\n",
       "      <td>-0.017671</td>\n",
       "      <td>-0.001913</td>\n",
       "      <td>-0.002134</td>\n",
       "      <td>-0.003835</td>\n",
       "      <td>0.203653</td>\n",
       "      <td>0.208165</td>\n",
       "      <td>-0.003188</td>\n",
       "      <td>0.058702</td>\n",
       "      <td>...</td>\n",
       "      <td>-0.000898</td>\n",
       "      <td>0.023781</td>\n",
       "      <td>1.000000</td>\n",
       "      <td>0.006972</td>\n",
       "      <td>-0.086438</td>\n",
       "      <td>0.100123</td>\n",
       "      <td>0.036809</td>\n",
       "      <td>-0.014998</td>\n",
       "      <td>-0.096794</td>\n",
       "      <td>0.134587</td>\n",
       "    </tr>\n",
       "    <tr>\n",
       "      <th>X25</th>\n",
       "      <td>-0.056276</td>\n",
       "      <td>-0.037291</td>\n",
       "      <td>-0.037237</td>\n",
       "      <td>-0.038960</td>\n",
       "      <td>-0.039022</td>\n",
       "      <td>-0.035000</td>\n",
       "      <td>-0.057573</td>\n",
       "      <td>-0.058557</td>\n",
       "      <td>-0.017613</td>\n",
       "      <td>-0.052331</td>\n",
       "      <td>...</td>\n",
       "      <td>0.009366</td>\n",
       "      <td>-0.575108</td>\n",
       "      <td>0.006972</td>\n",
       "      <td>1.000000</td>\n",
       "      <td>0.030428</td>\n",
       "      <td>-0.049318</td>\n",
       "      <td>0.084211</td>\n",
       "      <td>-0.024695</td>\n",
       "      <td>0.027510</td>\n",
       "      <td>-0.062118</td>\n",
       "    </tr>\n",
       "    <tr>\n",
       "      <th>X26</th>\n",
       "      <td>-0.030287</td>\n",
       "      <td>-0.148163</td>\n",
       "      <td>-0.141444</td>\n",
       "      <td>0.008761</td>\n",
       "      <td>0.008360</td>\n",
       "      <td>0.051230</td>\n",
       "      <td>-0.068812</td>\n",
       "      <td>-0.071527</td>\n",
       "      <td>0.057226</td>\n",
       "      <td>-0.084260</td>\n",
       "      <td>...</td>\n",
       "      <td>0.084652</td>\n",
       "      <td>-0.073097</td>\n",
       "      <td>-0.086438</td>\n",
       "      <td>0.030428</td>\n",
       "      <td>1.000000</td>\n",
       "      <td>-0.011431</td>\n",
       "      <td>-0.176211</td>\n",
       "      <td>-0.008297</td>\n",
       "      <td>0.140233</td>\n",
       "      <td>-0.245400</td>\n",
       "    </tr>\n",
       "    <tr>\n",
       "      <th>X27</th>\n",
       "      <td>0.020067</td>\n",
       "      <td>0.114085</td>\n",
       "      <td>0.113139</td>\n",
       "      <td>0.204486</td>\n",
       "      <td>0.205374</td>\n",
       "      <td>0.206444</td>\n",
       "      <td>0.018652</td>\n",
       "      <td>0.018388</td>\n",
       "      <td>0.056123</td>\n",
       "      <td>0.141685</td>\n",
       "      <td>...</td>\n",
       "      <td>0.303921</td>\n",
       "      <td>0.063256</td>\n",
       "      <td>0.100123</td>\n",
       "      <td>-0.049318</td>\n",
       "      <td>-0.011431</td>\n",
       "      <td>1.000000</td>\n",
       "      <td>-0.029716</td>\n",
       "      <td>0.229261</td>\n",
       "      <td>-0.118967</td>\n",
       "      <td>0.678546</td>\n",
       "    </tr>\n",
       "    <tr>\n",
       "      <th>X28</th>\n",
       "      <td>0.072836</td>\n",
       "      <td>0.120493</td>\n",
       "      <td>0.122349</td>\n",
       "      <td>-0.075370</td>\n",
       "      <td>-0.074805</td>\n",
       "      <td>-0.073140</td>\n",
       "      <td>0.070241</td>\n",
       "      <td>0.072022</td>\n",
       "      <td>0.021082</td>\n",
       "      <td>-0.016197</td>\n",
       "      <td>...</td>\n",
       "      <td>-0.043725</td>\n",
       "      <td>-0.008250</td>\n",
       "      <td>0.036809</td>\n",
       "      <td>0.084211</td>\n",
       "      <td>-0.176211</td>\n",
       "      <td>-0.029716</td>\n",
       "      <td>1.000000</td>\n",
       "      <td>-0.097111</td>\n",
       "      <td>-0.055212</td>\n",
       "      <td>0.004397</td>\n",
       "    </tr>\n",
       "    <tr>\n",
       "      <th>X29</th>\n",
       "      <td>0.009964</td>\n",
       "      <td>0.021840</td>\n",
       "      <td>0.022024</td>\n",
       "      <td>0.343620</td>\n",
       "      <td>0.343174</td>\n",
       "      <td>0.341424</td>\n",
       "      <td>0.008834</td>\n",
       "      <td>0.010107</td>\n",
       "      <td>0.101830</td>\n",
       "      <td>0.289232</td>\n",
       "      <td>...</td>\n",
       "      <td>0.150947</td>\n",
       "      <td>-0.031996</td>\n",
       "      <td>-0.014998</td>\n",
       "      <td>-0.024695</td>\n",
       "      <td>-0.008297</td>\n",
       "      <td>0.229261</td>\n",
       "      <td>-0.097111</td>\n",
       "      <td>1.000000</td>\n",
       "      <td>0.219320</td>\n",
       "      <td>0.206805</td>\n",
       "    </tr>\n",
       "    <tr>\n",
       "      <th>X30</th>\n",
       "      <td>0.343195</td>\n",
       "      <td>-0.006798</td>\n",
       "      <td>-0.005749</td>\n",
       "      <td>0.118455</td>\n",
       "      <td>0.119811</td>\n",
       "      <td>0.122296</td>\n",
       "      <td>0.310831</td>\n",
       "      <td>0.319435</td>\n",
       "      <td>0.050894</td>\n",
       "      <td>0.028376</td>\n",
       "      <td>...</td>\n",
       "      <td>0.206273</td>\n",
       "      <td>-0.011543</td>\n",
       "      <td>-0.096794</td>\n",
       "      <td>0.027510</td>\n",
       "      <td>0.140233</td>\n",
       "      <td>-0.118967</td>\n",
       "      <td>-0.055212</td>\n",
       "      <td>0.219320</td>\n",
       "      <td>1.000000</td>\n",
       "      <td>-0.088895</td>\n",
       "    </tr>\n",
       "    <tr>\n",
       "      <th>X31</th>\n",
       "      <td>-0.026944</td>\n",
       "      <td>0.094504</td>\n",
       "      <td>0.093521</td>\n",
       "      <td>0.237797</td>\n",
       "      <td>0.237668</td>\n",
       "      <td>0.238120</td>\n",
       "      <td>-0.023347</td>\n",
       "      <td>-0.024401</td>\n",
       "      <td>0.116739</td>\n",
       "      <td>0.203865</td>\n",
       "      <td>...</td>\n",
       "      <td>0.229893</td>\n",
       "      <td>0.133937</td>\n",
       "      <td>0.134587</td>\n",
       "      <td>-0.062118</td>\n",
       "      <td>-0.245400</td>\n",
       "      <td>0.678546</td>\n",
       "      <td>0.004397</td>\n",
       "      <td>0.206805</td>\n",
       "      <td>-0.088895</td>\n",
       "      <td>1.000000</td>\n",
       "    </tr>\n",
       "  </tbody>\n",
       "</table>\n",
       "<p>21 rows × 21 columns</p>\n",
       "</div>"
      ],
      "text/plain": [
       "           X1        X2        X3        X4        X5        X6        X8  \\\n",
       "X1   1.000000  0.034628  0.036238  0.178780  0.179757  0.182324  0.954516   \n",
       "X2   0.034628  1.000000  0.994944  0.075747  0.080057  0.089241  0.090103   \n",
       "X3   0.036238  0.994944  1.000000  0.078809  0.083259  0.092792  0.088844   \n",
       "X4   0.178780  0.075747  0.078809  1.000000  0.998286  0.994048  0.177287   \n",
       "X5   0.179757  0.080057  0.083259  0.998286  1.000000  0.996125  0.176984   \n",
       "X6   0.182324  0.089241  0.092792  0.994048  0.996125  1.000000  0.175727   \n",
       "X8   0.954516  0.090103  0.088844  0.177287  0.176984  0.175727  1.000000   \n",
       "X9   0.971480  0.090886  0.089598  0.182014  0.181624  0.180328  0.994267   \n",
       "X11  0.035614  0.036423  0.039842  0.135405  0.135841  0.137930  0.026727   \n",
       "X13 -0.034799  0.031274  0.031757  0.326455  0.325759  0.323976 -0.025186   \n",
       "X19 -0.005979 -0.012771 -0.012118 -0.010203 -0.010150 -0.009816 -0.010179   \n",
       "X21  0.157820  0.120393  0.118938  0.059974  0.061531  0.065712  0.138979   \n",
       "X22  0.092090  0.078361  0.078307  0.008841  0.009477  0.010380  0.090037   \n",
       "X24  0.209053 -0.015960 -0.017671 -0.001913 -0.002134 -0.003835  0.203653   \n",
       "X25 -0.056276 -0.037291 -0.037237 -0.038960 -0.039022 -0.035000 -0.057573   \n",
       "X26 -0.030287 -0.148163 -0.141444  0.008761  0.008360  0.051230 -0.068812   \n",
       "X27  0.020067  0.114085  0.113139  0.204486  0.205374  0.206444  0.018652   \n",
       "X28  0.072836  0.120493  0.122349 -0.075370 -0.074805 -0.073140  0.070241   \n",
       "X29  0.009964  0.021840  0.022024  0.343620  0.343174  0.341424  0.008834   \n",
       "X30  0.343195 -0.006798 -0.005749  0.118455  0.119811  0.122296  0.310831   \n",
       "X31 -0.026944  0.094504  0.093521  0.237797  0.237668  0.238120 -0.023347   \n",
       "\n",
       "           X9       X11       X13    ...          X21       X22       X24  \\\n",
       "X1   0.971480  0.035614 -0.034799    ...     0.157820  0.092090  0.209053   \n",
       "X2   0.090886  0.036423  0.031274    ...     0.120393  0.078361 -0.015960   \n",
       "X3   0.089598  0.039842  0.031757    ...     0.118938  0.078307 -0.017671   \n",
       "X4   0.182014  0.135405  0.326455    ...     0.059974  0.008841 -0.001913   \n",
       "X5   0.181624  0.135841  0.325759    ...     0.061531  0.009477 -0.002134   \n",
       "X6   0.180328  0.137930  0.323976    ...     0.065712  0.010380 -0.003835   \n",
       "X8   0.994267  0.026727 -0.025186    ...     0.138979  0.090037  0.203653   \n",
       "X9   1.000000  0.027369 -0.025750    ...     0.142357  0.091651  0.208165   \n",
       "X11  0.027369  1.000000  0.084987    ...     0.039530  0.032886 -0.003188   \n",
       "X13 -0.025750  0.084987  1.000000    ...    -0.167787  0.054300  0.058702   \n",
       "X19 -0.010025 -0.009150 -0.007439    ...     0.002486 -0.017135 -0.004476   \n",
       "X21  0.142357  0.039530 -0.167787    ...     1.000000 -0.002898 -0.000898   \n",
       "X22  0.091651  0.032886  0.054300    ...    -0.002898  1.000000  0.023781   \n",
       "X24  0.208165 -0.003188  0.058702    ...    -0.000898  0.023781  1.000000   \n",
       "X25 -0.058557 -0.017613 -0.052331    ...     0.009366 -0.575108  0.006972   \n",
       "X26 -0.071527  0.057226 -0.084260    ...     0.084652 -0.073097 -0.086438   \n",
       "X27  0.018388  0.056123  0.141685    ...     0.303921  0.063256  0.100123   \n",
       "X28  0.072022  0.021082 -0.016197    ...    -0.043725 -0.008250  0.036809   \n",
       "X29  0.010107  0.101830  0.289232    ...     0.150947 -0.031996 -0.014998   \n",
       "X30  0.319435  0.050894  0.028376    ...     0.206273 -0.011543 -0.096794   \n",
       "X31 -0.024401  0.116739  0.203865    ...     0.229893  0.133937  0.134587   \n",
       "\n",
       "          X25       X26       X27       X28       X29       X30       X31  \n",
       "X1  -0.056276 -0.030287  0.020067  0.072836  0.009964  0.343195 -0.026944  \n",
       "X2  -0.037291 -0.148163  0.114085  0.120493  0.021840 -0.006798  0.094504  \n",
       "X3  -0.037237 -0.141444  0.113139  0.122349  0.022024 -0.005749  0.093521  \n",
       "X4  -0.038960  0.008761  0.204486 -0.075370  0.343620  0.118455  0.237797  \n",
       "X5  -0.039022  0.008360  0.205374 -0.074805  0.343174  0.119811  0.237668  \n",
       "X6  -0.035000  0.051230  0.206444 -0.073140  0.341424  0.122296  0.238120  \n",
       "X8  -0.057573 -0.068812  0.018652  0.070241  0.008834  0.310831 -0.023347  \n",
       "X9  -0.058557 -0.071527  0.018388  0.072022  0.010107  0.319435 -0.024401  \n",
       "X11 -0.017613  0.057226  0.056123  0.021082  0.101830  0.050894  0.116739  \n",
       "X13 -0.052331 -0.084260  0.141685 -0.016197  0.289232  0.028376  0.203865  \n",
       "X19  0.020234  0.059215 -0.051950 -0.005250 -0.020641  0.024807 -0.029135  \n",
       "X21  0.009366  0.084652  0.303921 -0.043725  0.150947  0.206273  0.229893  \n",
       "X22 -0.575108 -0.073097  0.063256 -0.008250 -0.031996 -0.011543  0.133937  \n",
       "X24  0.006972 -0.086438  0.100123  0.036809 -0.014998 -0.096794  0.134587  \n",
       "X25  1.000000  0.030428 -0.049318  0.084211 -0.024695  0.027510 -0.062118  \n",
       "X26  0.030428  1.000000 -0.011431 -0.176211 -0.008297  0.140233 -0.245400  \n",
       "X27 -0.049318 -0.011431  1.000000 -0.029716  0.229261 -0.118967  0.678546  \n",
       "X28  0.084211 -0.176211 -0.029716  1.000000 -0.097111 -0.055212  0.004397  \n",
       "X29 -0.024695 -0.008297  0.229261 -0.097111  1.000000  0.219320  0.206805  \n",
       "X30  0.027510  0.140233 -0.118967 -0.055212  0.219320  1.000000 -0.088895  \n",
       "X31 -0.062118 -0.245400  0.678546  0.004397  0.206805 -0.088895  1.000000  \n",
       "\n",
       "[21 rows x 21 columns]"
      ]
     },
     "execution_count": 18,
     "metadata": {},
     "output_type": "execute_result"
    }
   ],
   "source": [
    "df.corr(method='pearson', min_periods=1)\n",
    "#Correlation coefficients are almost consistent with assumptions but lets get rid of some redundant variables and involve catecorical variables into model"
   ]
  },
  {
   "cell_type": "code",
   "execution_count": 51,
   "metadata": {},
   "outputs": [
    {
     "data": {
      "text/plain": [
       "<matplotlib.axes._subplots.AxesSubplot at 0x27e42a40438>"
      ]
     },
     "execution_count": 51,
     "metadata": {},
     "output_type": "execute_result"
    },
    {
     "data": {
      "image/png": "[encoded data removed]",
      "text/plain": [
       "<matplotlib.figure.Figure at 0x27e3dc28550>"
      ]
     },
     "metadata": {},
     "output_type": "display_data"
    }
   ],
   "source": [
    "df.X1.hist()"
   ]
  },
  {
   "cell_type": "code",
   "execution_count": 142,
   "metadata": {},
   "outputs": [],
   "source": [
    "#before moving to categorical variable selection, do some imputation\n",
    "df[\"X25\"].fillna(df.X25.median(), inplace=True)\n",
    "df[\"X26\"].fillna(df.X26.median(), inplace=True)\n",
    "#df[\"X13\"].fillna(df.X13.median(), inplace=True)\n",
    "#df[\"X13\"].fillna(df.groupby(\"X12\")[\"X13\"].transform(\"mean\"), inplace=True)\n",
    "df[\"X30\"].fillna(df.X30.mean(), inplace=True)\n",
    "\n",
    "test_df[\"X25\"].fillna(test_df.X25.median(), inplace=True)\n",
    "test_df[\"X26\"].fillna(test_df.X26.median(), inplace=True)\n",
    "test_df[\"X30\"].fillna(test_df.X30.mean(), inplace=True)"
   ]
  },
  {
   "cell_type": "markdown",
   "metadata": {},
   "source": [
    "USEFUL CATEGORICAL VARIABLE SELECTION PHASE"
   ]
  },
  {
   "cell_type": "code",
   "execution_count": 143,
   "metadata": {},
   "outputs": [
    {
     "data": {
      "text/plain": [
       "<matplotlib.axes._subplots.AxesSubplot at 0x27e8592eba8>"
      ]
     },
     "execution_count": 143,
     "metadata": {},
     "output_type": "execute_result"
    },
    {
     "data": {
      "image/png": "[encoded data removed]",
      "text/plain": [
       "<matplotlib.figure.Figure at 0x27e0d08e358>"
      ]
     },
     "metadata": {},
     "output_type": "display_data"
    },
    {
     "data": {
      "image/png": "[encoded data removed]",
      "text/plain": [
       "<matplotlib.figure.Figure at 0x27e87d51860>"
      ]
     },
     "metadata": {},
     "output_type": "display_data"
    }
   ],
   "source": [
    "#Start with X12\n",
    "sns.factorplot('X12','X1', data=df,size=4,aspect=2)\n",
    "\n",
    "fig, (axis1,axis2,axis3) = plt.subplots(1,3,figsize=(15,5))\n",
    "sns.countplot(x='X12', data=df, ax=axis1)\n",
    "sns.countplot(x='X1', hue=\"X12\", data=df, order=[1,0],ax=axis2)\n",
    "own_perc = df[[\"X12\", \"X1\"]].groupby(['X12'],as_index=False).mean()\n",
    "sns.barplot(x='X12', y='X1', data=own_perc,order=['OWN','RENT','MORTGAGE','NONE','ANY','OTHER'],ax=axis3)"
   ]
  },
  {
   "cell_type": "code",
   "execution_count": 144,
   "metadata": {},
   "outputs": [],
   "source": [
    "own_dummies  = pd.get_dummies(df['X12'])\n",
    "#I saw very less quantity for the following groups and I just disregraded them\n",
    "own_dummies  = own_dummies.drop(['NONE','ANY','OTHER'], axis=1)\n",
    "\n",
    "own_dummies_test  = pd.get_dummies(test_df['X12'])\n",
    "#print (own_test)\n",
    "#grade_dummies_test = grade_dummies_test.drop(['NONE','ANY','OTHER'], axis=1)\n",
    "df = df.join(own_dummies)\n",
    "test_df    = test_df.join(own_dummies_test)\n",
    "\n",
    "df.drop(['X12'], axis=1,inplace=True)\n",
    "test_df.drop(['X12'], axis=1,inplace=True)"
   ]
  },
  {
   "cell_type": "code",
   "execution_count": 145,
   "metadata": {},
   "outputs": [
    {
     "data": {
      "text/plain": [
       "<matplotlib.axes._subplots.AxesSubplot at 0x27e4133eeb8>"
      ]
     },
     "execution_count": 145,
     "metadata": {},
     "output_type": "execute_result"
    },
    {
     "data": {
      "image/png": "[encoded data removed]",
      "text/plain": [
       "<matplotlib.figure.Figure at 0x27e101b0710>"
      ]
     },
     "metadata": {},
     "output_type": "display_data"
    }
   ],
   "source": [
    "#This is a tricky variable, lets do our best to get some insights about their importance\n",
    "\n",
    "fig, (axis1,axis2,axis3) = plt.subplots(1,3,figsize=(15,10))\n",
    "sns.countplot(x='X20', data=df, ax=axis1)\n",
    "sns.countplot(x='X1', hue=\"X20\", data=df, order=[1,0],ax=axis2)\n",
    "own_perc = df[[\"X20\", \"X1\"]].groupby(['X20'],as_index=False).mean()\n",
    "sns.barplot(x='X20', y='X1', data=own_perc,order=['CA','NY','TX','IL','ID','ME','AL','FL','IA','ID','TN','NE','MS'],ax=axis3)"
   ]
  },
  {
   "cell_type": "code",
   "execution_count": 147,
   "metadata": {},
   "outputs": [],
   "source": [
    "#After examining the plots, I have decided to focus on most frequent states for each data set\n",
    "own_dummies  = pd.get_dummies(df['X20'])\n",
    "own_dummies  = own_dummies.drop([col for col, val in own_dummies.sum().iteritems() if val < 10000], axis=1)\n",
    "\n",
    "own_dummies_test  = pd.get_dummies(test_df['X20'])\n",
    "#print (own_test)\n",
    "own_dummies_test  = own_dummies_test.drop([col for col, val in own_dummies_test.sum().iteritems() if val < 50], axis=1)\n",
    "df = df.join(own_dummies)\n",
    "test_df    = test_df.join(own_dummies_test)\n",
    "\n",
    "df.drop(['X20'], axis=1,inplace=True)\n",
    "test_df.drop(['X20'], axis=1,inplace=True)\n"
   ]
  },
  {
   "cell_type": "code",
   "execution_count": 148,
   "metadata": {},
   "outputs": [
    {
     "name": "stdout",
     "output_type": "stream",
     "text": [
      "<class 'pandas.core.frame.DataFrame'>\n",
      "Int64Index: 287123 entries, 0 to 399999\n",
      "Data columns (total 40 columns):\n",
      "X1          287123 non-null float64\n",
      "X2          287123 non-null float64\n",
      "X3          287123 non-null float64\n",
      "X4          287123 non-null float64\n",
      "X5          287123 non-null float64\n",
      "X6          287123 non-null float64\n",
      "X7          287123 non-null object\n",
      "X8          287123 non-null float64\n",
      "X9          287123 non-null float64\n",
      "X10         270054 non-null object\n",
      "X11         287123 non-null float64\n",
      "X13         287123 non-null float64\n",
      "X14         287123 non-null object\n",
      "X15         287123 non-null object\n",
      "X16         89124 non-null object\n",
      "X17         287123 non-null object\n",
      "X18         287112 non-null object\n",
      "X19         287123 non-null int64\n",
      "X21         287123 non-null float64\n",
      "X22         287123 non-null float64\n",
      "X23         287123 non-null object\n",
      "X24         287123 non-null float64\n",
      "X25         287123 non-null float64\n",
      "X26         287123 non-null float64\n",
      "X27         287123 non-null float64\n",
      "X28         287123 non-null float64\n",
      "X29         287123 non-null float64\n",
      "X30         287123 non-null float64\n",
      "X31         287123 non-null float64\n",
      "X32         287123 non-null object\n",
      "MORTGAGE    287123 non-null float64\n",
      "OWN         287123 non-null float64\n",
      "RENT        287123 non-null float64\n",
      "CA          287123 non-null float64\n",
      "FL          287123 non-null float64\n",
      "IL          287123 non-null float64\n",
      "NJ          287123 non-null float64\n",
      "NY          287123 non-null float64\n",
      "PA          287123 non-null float64\n",
      "TX          287123 non-null float64\n",
      "dtypes: float64(30), int64(1), object(9)\n",
      "memory usage: 89.8+ MB\n",
      "<class 'pandas.core.frame.DataFrame'>\n",
      "Int64Index: 80000 entries, 0 to 79999\n",
      "Data columns (total 79 columns):\n",
      "X1          0 non-null float64\n",
      "X2          80000 non-null int64\n",
      "X3          80000 non-null int64\n",
      "X4          80000 non-null float64\n",
      "X5          80000 non-null float64\n",
      "X6          80000 non-null float64\n",
      "X7          80000 non-null object\n",
      "X8          80000 non-null float64\n",
      "X9          80000 non-null int64\n",
      "X10         75606 non-null object\n",
      "X11         80000 non-null float64\n",
      "X13         80000 non-null float64\n",
      "X14         80000 non-null object\n",
      "X15         80000 non-null object\n",
      "X16         15 non-null object\n",
      "X17         80000 non-null object\n",
      "X18         80000 non-null object\n",
      "X19         80000 non-null object\n",
      "X21         80000 non-null float64\n",
      "X22         80000 non-null int64\n",
      "X23         80000 non-null object\n",
      "X24         80000 non-null int64\n",
      "X25         80000 non-null float64\n",
      "X26         80000 non-null float64\n",
      "X27         80000 non-null int64\n",
      "X28         80000 non-null int64\n",
      "X29         80000 non-null int64\n",
      "X30         80000 non-null float64\n",
      "X31         80000 non-null int64\n",
      "X32         80000 non-null object\n",
      "MORTGAGE    80000 non-null float64\n",
      "OWN         80000 non-null float64\n",
      "RENT        80000 non-null float64\n",
      "AK          80000 non-null float64\n",
      "AL          80000 non-null float64\n",
      "AR          80000 non-null float64\n",
      "AZ          80000 non-null float64\n",
      "CA          80000 non-null float64\n",
      "CO          80000 non-null float64\n",
      "CT          80000 non-null float64\n",
      "DC          80000 non-null float64\n",
      "DE          80000 non-null float64\n",
      "FL          80000 non-null float64\n",
      "GA          80000 non-null float64\n",
      "HI          80000 non-null float64\n",
      "IL          80000 non-null float64\n",
      "IN          80000 non-null float64\n",
      "KS          80000 non-null float64\n",
      "KY          80000 non-null float64\n",
      "LA          80000 non-null float64\n",
      "MA          80000 non-null float64\n",
      "MD          80000 non-null float64\n",
      "MI          80000 non-null float64\n",
      "MN          80000 non-null float64\n",
      "MO          80000 non-null float64\n",
      "MS          80000 non-null float64\n",
      "MT          80000 non-null float64\n",
      "NC          80000 non-null float64\n",
      "NH          80000 non-null float64\n",
      "NJ          80000 non-null float64\n",
      "NM          80000 non-null float64\n",
      "NV          80000 non-null float64\n",
      "NY          80000 non-null float64\n",
      "OH          80000 non-null float64\n",
      "OK          80000 non-null float64\n",
      "OR          80000 non-null float64\n",
      "PA          80000 non-null float64\n",
      "RI          80000 non-null float64\n",
      "SC          80000 non-null float64\n",
      "SD          80000 non-null float64\n",
      "TN          80000 non-null float64\n",
      "TX          80000 non-null float64\n",
      "UT          80000 non-null float64\n",
      "VA          80000 non-null float64\n",
      "VT          80000 non-null float64\n",
      "WA          80000 non-null float64\n",
      "WI          80000 non-null float64\n",
      "WV          80000 non-null float64\n",
      "WY          80000 non-null float64\n",
      "dtypes: float64(60), int64(9), object(10)\n",
      "memory usage: 48.8+ MB\n"
     ]
    }
   ],
   "source": [
    "df.info()\n",
    "test_df.info()"
   ]
  },
  {
   "cell_type": "code",
   "execution_count": 149,
   "metadata": {},
   "outputs": [],
   "source": [
    "#I need overlaps so just drop the extra ones\n",
    "test_df.drop(['AK','AL','AR','AZ','CO','CT','DC','DE','GA','HI','IN','KS','KY','LA','MA','MD','MI','MN','MO','MS','MT','NC','NH','NM','NV','OH','OK','OR','RI','SC','SD','TN','UT','VA','VT','WA','WI','WV','WY'], axis=1, inplace=True)"
   ]
  },
  {
   "cell_type": "markdown",
   "metadata": {},
   "source": [
    "I WOULD LIKE TO KNOW WHAT OTHER CATEGORIES THAT I CAN USE"
   ]
  },
  {
   "cell_type": "code",
   "execution_count": 103,
   "metadata": {
    "collapsed": true
   },
   "outputs": [],
   "source": [
    "def describe_caterical(X):\n",
    "    from IPython.display import display, HTML\n",
    "    display(HTML(X[X.columns[X.dtypes==\"object\"]].describe().to_html()))"
   ]
  },
  {
   "cell_type": "code",
   "execution_count": 104,
   "metadata": {},
   "outputs": [
    {
     "data": {
      "text/html": [
       "<table border=\"1\" class=\"dataframe\">\n",
       "  <thead>\n",
       "    <tr style=\"text-align: right;\">\n",
       "      <th></th>\n",
       "      <th>X7</th>\n",
       "      <th>X8</th>\n",
       "      <th>X9</th>\n",
       "      <th>X10</th>\n",
       "      <th>X14</th>\n",
       "      <th>X15</th>\n",
       "      <th>X16</th>\n",
       "      <th>X17</th>\n",
       "      <th>X18</th>\n",
       "      <th>X23</th>\n",
       "      <th>X32</th>\n",
       "    </tr>\n",
       "  </thead>\n",
       "  <tbody>\n",
       "    <tr>\n",
       "      <th>count</th>\n",
       "      <td>338989</td>\n",
       "      <td>287123</td>\n",
       "      <td>287123</td>\n",
       "      <td>318737</td>\n",
       "      <td>338989</td>\n",
       "      <td>338989</td>\n",
       "      <td>105057</td>\n",
       "      <td>338989</td>\n",
       "      <td>338974</td>\n",
       "      <td>338989</td>\n",
       "      <td>338989</td>\n",
       "    </tr>\n",
       "    <tr>\n",
       "      <th>unique</th>\n",
       "      <td>2</td>\n",
       "      <td>7</td>\n",
       "      <td>35</td>\n",
       "      <td>163396</td>\n",
       "      <td>3</td>\n",
       "      <td>91</td>\n",
       "      <td>103870</td>\n",
       "      <td>14</td>\n",
       "      <td>53618</td>\n",
       "      <td>653</td>\n",
       "      <td>2</td>\n",
       "    </tr>\n",
       "    <tr>\n",
       "      <th>top</th>\n",
       "      <td>36 months</td>\n",
       "      <td>B</td>\n",
       "      <td>B3</td>\n",
       "      <td>Teacher</td>\n",
       "      <td>VERIFIED - income</td>\n",
       "      <td>Jul-14</td>\n",
       "      <td></td>\n",
       "      <td>debt_consolidation</td>\n",
       "      <td>Debt consolidation</td>\n",
       "      <td>Oct-00</td>\n",
       "      <td>f</td>\n",
       "    </tr>\n",
       "    <tr>\n",
       "      <th>freq</th>\n",
       "      <td>247791</td>\n",
       "      <td>86121</td>\n",
       "      <td>20352</td>\n",
       "      <td>3602</td>\n",
       "      <td>127040</td>\n",
       "      <td>24797</td>\n",
       "      <td>190</td>\n",
       "      <td>198226</td>\n",
       "      <td>105698</td>\n",
       "      <td>2725</td>\n",
       "      <td>232600</td>\n",
       "    </tr>\n",
       "  </tbody>\n",
       "</table>"
      ],
      "text/plain": [
       "<IPython.core.display.HTML object>"
      ]
     },
     "metadata": {},
     "output_type": "display_data"
    }
   ],
   "source": [
    "describe_caterical(df)"
   ]
  },
  {
   "cell_type": "code",
   "execution_count": 151,
   "metadata": {
    "collapsed": true
   },
   "outputs": [],
   "source": [
    "# drop unnecessary columns, these columns won't be useful in analysis and prediction\n",
    "# Go back to X25, X26 later on for better imputing\n",
    "df = df.drop(['X10','X15','X16','X23','X2','X3','X18'], axis=1)#11,16,17,19,20\n",
    "test_df    = test_df.drop(['X10','X15','X16','X23','X3','X18'], axis=1)"
   ]
  },
  {
   "cell_type": "markdown",
   "metadata": {},
   "source": [
    "I DROPPED X16 BECAUSE ITS EMPTY IN TEST SET. I DID SOME ADDITIONAL WORK FOR THAT VARIABLE and FOUND INTERESTING RESULTS WHICH EXPLAINED IN WRITE-UP DOCUMENT.\n",
    "\n",
    "LETS GO BACK TO OTHER CATEGORICALS WHICH MAY BE USEFUL"
   ]
  },
  {
   "cell_type": "code",
   "execution_count": 61,
   "metadata": {},
   "outputs": [
    {
     "data": {
      "text/plain": [
       "<matplotlib.axes._subplots.AxesSubplot at 0x27e41c7ba20>"
      ]
     },
     "execution_count": 61,
     "metadata": {},
     "output_type": "execute_result"
    },
    {
     "data": {
      "image/png": "[encoded data removed]",
      "text/plain": [
       "<matplotlib.figure.Figure at 0x27e42a480b8>"
      ]
     },
     "metadata": {},
     "output_type": "display_data"
    }
   ],
   "source": [
    "fig, (axis1,axis2,axis3) = plt.subplots(1,3,figsize=(15,10))\n",
    "sns.countplot(x='X17', data=df, ax=axis1)\n",
    "sns.countplot(x='X1', hue=\"X17\", data=df, order=[1,0],ax=axis2)\n",
    "own_perc = df[[\"X17\", \"X1\"]].groupby(['X17'],as_index=False).mean()\n",
    "sns.barplot(x='X17', y='X1', data=own_perc,ax=axis3)"
   ]
  },
  {
   "cell_type": "code",
   "execution_count": 153,
   "metadata": {
    "collapsed": true
   },
   "outputs": [],
   "source": [
    "#I only interested in most frequent ones in both data sets. Credit card and debt consolidation are dominating categories in both sets\n",
    "own_dummies  = pd.get_dummies(df['X17'])\n",
    "own_dummies  = own_dummies.drop([col for col, val in own_dummies.sum().iteritems() if val < 50000], axis=1)\n",
    "\n",
    "own_dummies_test  = pd.get_dummies(test_df['X17'])\n",
    "#print (own_test)\n",
    "own_dummies_test  = own_dummies_test.drop([col for col, val in own_dummies_test.sum().iteritems() if val < 10000], axis=1)\n",
    "df = df.join(own_dummies)\n",
    "test_df    = test_df.join(own_dummies_test)\n",
    "\n",
    "df.drop(['X17'], axis=1,inplace=True)\n",
    "test_df.drop(['X17'], axis=1,inplace=True)"
   ]
  },
  {
   "cell_type": "code",
   "execution_count": 155,
   "metadata": {
    "collapsed": true
   },
   "outputs": [],
   "source": [
    "#other categorical which do not require more pruning\n",
    "get_dummies=pd.get_dummies(df['X7'])\n",
    "get_dummies_test=pd.get_dummies(df['X7'])\n",
    "df = df.join(get_dummies)\n",
    "test_df    = test_df.join(get_dummies_test)\n",
    "df.drop(['X7'], axis=1,inplace=True)\n",
    "test_df.drop(['X7'], axis=1,inplace=True)\n",
    "get_dummies=pd.get_dummies(df['X14'])\n",
    "get_dummies_test=pd.get_dummies(df['X14'])\n",
    "df = df.join(get_dummies)\n",
    "test_df    = test_df.join(get_dummies_test)\n",
    "df.drop(['X14'], axis=1,inplace=True)\n",
    "test_df.drop(['X14'], axis=1,inplace=True)\n",
    "get_dummies=pd.get_dummies(df['X32'])\n",
    "get_dummies_test=pd.get_dummies(df['X32'])\n",
    "df = df.join(get_dummies)\n",
    "test_df    = test_df.join(get_dummies_test)\n",
    "df.drop(['X32'], axis=1,inplace=True)\n",
    "test_df.drop(['X32'], axis=1,inplace=True)"
   ]
  },
  {
   "cell_type": "code",
   "execution_count": null,
   "metadata": {
    "collapsed": true
   },
   "outputs": [],
   "source": [
    "test_df.info()"
   ]
  },
  {
   "cell_type": "markdown",
   "metadata": {},
   "source": [
    "After making sure that Data Frames are ready for computation, we can start fitting models"
   ]
  },
  {
   "cell_type": "code",
   "execution_count": 207,
   "metadata": {},
   "outputs": [
    {
     "name": "stdout",
     "output_type": "stream",
     "text": [
      "score with the mean imputation on numerical variables= 0.94\n",
      "[ 0.16283791  0.06029425  0.1402175  ...,  0.1795292   0.136828    0.12607147]\n"
     ]
    }
   ],
   "source": [
    "#Start with default parameters of RF\n",
    "\n",
    "X_train = df.drop(\"X1\",axis=1)\n",
    "Y_train = df[\"X1\"]\n",
    "\n",
    "X_test = test_df.drop(\"X1\",axis=1)\n",
    "X_test=X_test.drop(\"X2\",axis=1)\n",
    "X_test.fillna(0.0, inplace=True)\n",
    "\n",
    "from sklearn import preprocessing\n",
    "x = X_train.values\n",
    "min_max = preprocessing.MinMaxScaler()\n",
    "x_scaled = min_max.fit_transform(x)\n",
    "X_train = pd.DataFrame(x_scaled)\n",
    "\n",
    "x_t = X_test.values\n",
    "x_scaled_t = min_max.fit_transform(x_t)\n",
    "X_test = pd.DataFrame(x_scaled_t)\n",
    "\n",
    "estimator=RandomForestRegressor(n_estimators=1000, random_state=0)\n",
    "estimator.fit(X_train,Y_train)\n",
    "score=cross_val_score(estimator,X_train,Y_train).mean()\n",
    "print (\"score with the mean imputation on numerical variables= %.2f\" % score)\n",
    "\n",
    "prediction = estimator.predict(X_test)\n",
    "print (prediction)"
   ]
  },
  {
   "cell_type": "code",
   "execution_count": 208,
   "metadata": {},
   "outputs": [
    {
     "name": "stdout",
     "output_type": "stream",
     "text": [
      "0.996024318588 0.11813472962730301\n"
     ]
    }
   ],
   "source": [
    "from sklearn.metrics import r2_score\n",
    "import numpy as np\n",
    "r2=r2_score(Y_train, estimator.predict(X_train))\n",
    "mse = np.mean(Y_train- estimator.predict(X_train)**2)\n",
    "print (r2,mse)\n",
    "\n",
    "#Suspicious about overfitting. lets apply some tuning in parameters"
   ]
  },
  {
   "cell_type": "code",
   "execution_count": 211,
   "metadata": {},
   "outputs": [
    {
     "name": "stdout",
     "output_type": "stream",
     "text": [
      "score with the mean imputation on numerical variables= 0.94\n",
      "[ 0.16536466  0.06029448  0.14249867 ...,  0.17943761  0.13240013\n",
      "  0.12634876]\n"
     ]
    }
   ],
   "source": [
    "X_train = df.drop(\"X1\",axis=1)\n",
    "Y_train = df[\"X1\"]\n",
    "\n",
    "X_test = test_df.drop(\"X1\",axis=1)\n",
    "X_test=X_test.drop(\"X2\",axis=1)\n",
    "X_test.fillna(0.0, inplace=True)\n",
    "\n",
    "from sklearn import preprocessing\n",
    "x = X_train.values\n",
    "min_max = preprocessing.MinMaxScaler()\n",
    "x_scaled = min_max.fit_transform(x)\n",
    "X_train = pd.DataFrame(x_scaled)\n",
    "\n",
    "x_t = X_test.values\n",
    "x_scaled_t = min_max.fit_transform(x_t)\n",
    "X_test = pd.DataFrame(x_scaled_t)\n",
    "\n",
    "estimator=RandomForestRegressor(n_estimators=1000, n_jobs=-1, random_state=42, max_features=\"auto\", min_samples_leaf=5)\n",
    "estimator.fit(X_train,Y_train)\n",
    "score=cross_val_score(estimator,X_train,Y_train).mean()\n",
    "print (\"score with the mean imputation on numerical variables= %.2f\" % score)\n",
    "\n",
    "prediction = estimator.predict(X_test)\n",
    "print (prediction)"
   ]
  },
  {
   "cell_type": "markdown",
   "metadata": {},
   "source": [
    "There is still possibility for overfitting so lets increase the cv to 10 folds"
   ]
  },
  {
   "cell_type": "code",
   "execution_count": 214,
   "metadata": {},
   "outputs": [
    {
     "name": "stdout",
     "output_type": "stream",
     "text": [
      "score with the mean imputation on numerical variables= 0.95\n",
      "[ 0.16274484  0.06029452  0.14103363 ...,  0.17976416  0.13667001\n",
      "  0.12603993]\n"
     ]
    }
   ],
   "source": [
    "X_train = df.drop(\"X1\",axis=1)\n",
    "Y_train = df[\"X1\"]\n",
    "\n",
    "X_test = test_df.drop(\"X1\",axis=1)\n",
    "X_test=X_test.drop(\"X2\",axis=1)\n",
    "X_test.fillna(0.0, inplace=True)\n",
    "\n",
    "from sklearn import preprocessing\n",
    "x = X_train.values\n",
    "min_max = preprocessing.MinMaxScaler()\n",
    "x_scaled = min_max.fit_transform(x)\n",
    "X_train = pd.DataFrame(x_scaled)\n",
    "\n",
    "x_t = X_test.values\n",
    "x_scaled_t = min_max.fit_transform(x_t)\n",
    "X_test = pd.DataFrame(x_scaled_t)\n",
    "\n",
    "estimator=RandomForestRegressor(n_estimators=200, n_jobs=+1, random_state=0, max_features=\"auto\")\n",
    "estimator.fit(X_train,Y_train)\n",
    "score=cross_val_score(estimator,X_train,Y_train,cv=10).mean()\n",
    "print (\"score with the mean imputation on numerical variables= %.2f\" % score)\n",
    "\n",
    "prediction = estimator.predict(X_test)\n",
    "print (prediction)"
   ]
  },
  {
   "cell_type": "code",
   "execution_count": 217,
   "metadata": {
    "collapsed": true
   },
   "outputs": [],
   "source": [
    "submission=pd.DataFrame({\"X1\":prediction})\n",
    "submission.to_csv('RandomForest_Predics.csv',index=False)"
   ]
  },
  {
   "cell_type": "code",
   "execution_count": 74,
   "metadata": {},
   "outputs": [
    {
     "name": "stdout",
     "output_type": "stream",
     "text": [
      "0.996195877793 0.11812944891469783\n"
     ]
    }
   ],
   "source": [
    "from sklearn.metrics import r2_score\n",
    "import numpy as np\n",
    "r2=r2_score(Y_train, estimator.predict(X_train))\n",
    "mse = np.mean(Y_train- estimator.predict(X_train)**2)\n",
    "print (r2,mse)"
   ]
  },
  {
   "cell_type": "markdown",
   "metadata": {},
   "source": [
    "Overall, results look consistent. I want to look at important features but I am sure there willl be at least one dominator"
   ]
  },
  {
   "cell_type": "code",
   "execution_count": 75,
   "metadata": {},
   "outputs": [
    {
     "data": {
      "text/plain": [
       "array([  1.40503784e-03,   1.05311023e-03,   2.83247250e-03,\n",
       "         2.57899638e-02,   9.38328710e-01,   1.07797737e-03,\n",
       "         2.21688003e-03,   1.84722390e-03,   9.69699628e-04,\n",
       "         3.26819889e-03,   2.38969514e-04,   7.71583231e-04,\n",
       "         1.42185599e-03,   1.60919861e-03,   1.68358983e-03,\n",
       "         1.57522300e-04,   3.14240304e-03,   3.01469891e-03,\n",
       "         1.95978704e-03,   2.45723811e-04,   1.55147288e-04,\n",
       "         2.56470700e-04,   9.61897362e-05,   1.81937207e-04,\n",
       "         9.15992368e-05,   1.94077110e-04,   1.26197215e-04,\n",
       "         1.21247671e-04,   1.15555192e-04,   1.04121930e-04,\n",
       "         9.05734136e-05,   8.69330589e-05,   9.58475753e-05,\n",
       "         1.28694883e-04,   1.71011751e-04,   1.21135996e-04,\n",
       "         1.24727166e-04,   1.86488346e-04,   1.25239102e-04,\n",
       "         8.44659108e-05,   2.07390504e-04,   2.52134489e-04,\n",
       "         1.36131552e-04,   1.19790252e-04,   1.87288216e-04,\n",
       "         4.55831332e-04,   3.93757096e-04,   8.95266039e-04,\n",
       "         2.54414981e-04,   4.49604233e-04,   4.35853996e-04,\n",
       "         5.20270387e-04])"
      ]
     },
     "execution_count": 75,
     "metadata": {},
     "output_type": "execute_result"
    }
   ],
   "source": [
    "estimator.feature_importances_"
   ]
  },
  {
   "cell_type": "code",
   "execution_count": 76,
   "metadata": {},
   "outputs": [
    {
     "name": "stdout",
     "output_type": "stream",
     "text": [
      "Feature ranking:\n",
      "1. feature 4 (0.938329)\n",
      "2. feature 3 (0.025790)\n",
      "3. feature 9 (0.003268)\n",
      "4. feature 16 (0.003142)\n",
      "5. feature 17 (0.003015)\n",
      "6. feature 2 (0.002832)\n",
      "7. feature 6 (0.002217)\n",
      "8. feature 18 (0.001960)\n",
      "9. feature 7 (0.001847)\n",
      "10. feature 14 (0.001684)\n",
      "11. feature 13 (0.001609)\n",
      "12. feature 12 (0.001422)\n",
      "13. feature 0 (0.001405)\n",
      "14. feature 5 (0.001078)\n",
      "15. feature 1 (0.001053)\n",
      "16. feature 8 (0.000970)\n",
      "17. feature 47 (0.000895)\n",
      "18. feature 11 (0.000772)\n",
      "19. feature 51 (0.000520)\n",
      "20. feature 45 (0.000456)\n",
      "21. feature 49 (0.000450)\n",
      "22. feature 50 (0.000436)\n",
      "23. feature 46 (0.000394)\n",
      "24. feature 21 (0.000256)\n",
      "25. feature 48 (0.000254)\n",
      "26. feature 41 (0.000252)\n",
      "27. feature 19 (0.000246)\n",
      "28. feature 10 (0.000239)\n",
      "29. feature 40 (0.000207)\n",
      "30. feature 25 (0.000194)\n",
      "31. feature 44 (0.000187)\n",
      "32. feature 37 (0.000186)\n"
     ]
    },
    {
     "data": {
      "image/png": "[encoded data removed]",
      "text/plain": [
       "<matplotlib.figure.Figure at 0x27e4217b710>"
      ]
     },
     "metadata": {},
     "output_type": "display_data"
    }
   ],
   "source": [
    "importances = estimator.feature_importances_\n",
    "std = np.std([tree.feature_importances_ for tree in estimator.estimators_],\n",
    "             axis=0)\n",
    "indices = np.argsort(importances)[::-1]\n",
    "# Print the feature ranking\n",
    "print(\"Feature ranking:\")\n",
    "\n",
    "for f in range(X.shape[1]):\n",
    "    print(\"%d. feature %d (%f)\" % (f + 1, indices[f], importances[indices[f]]))\n",
    "\n",
    "# Plot the feature importances of the forest\n",
    "plt.figure()\n",
    "plt.title(\"Feature importances\")\n",
    "plt.bar(range(X_train.shape[1]), importances[indices],\n",
    "       color=\"r\", yerr=std[indices], align=\"center\")\n",
    "plt.xticks(range(X.shape[1]), indices)\n",
    "plt.xlim([-1, X_train.shape[1]])\n",
    "plt.show()"
   ]
  },
  {
   "cell_type": "code",
   "execution_count": 176,
   "metadata": {},
   "outputs": [],
   "source": [
    "a=np.histogram(prediction)"
   ]
  },
  {
   "cell_type": "code",
   "execution_count": 61,
   "metadata": {},
   "outputs": [
    {
     "data": {
      "text/html": [
       "<div>\n",
       "<table border=\"1\" class=\"dataframe\">\n",
       "  <thead>\n",
       "    <tr style=\"text-align: right;\">\n",
       "      <th></th>\n",
       "      <th>0</th>\n",
       "      <th>1</th>\n",
       "      <th>2</th>\n",
       "      <th>3</th>\n",
       "      <th>4</th>\n",
       "      <th>5</th>\n",
       "      <th>6</th>\n",
       "      <th>7</th>\n",
       "      <th>8</th>\n",
       "      <th>9</th>\n",
       "      <th>...</th>\n",
       "      <th>27</th>\n",
       "      <th>28</th>\n",
       "      <th>29</th>\n",
       "      <th>30</th>\n",
       "      <th>31</th>\n",
       "      <th>32</th>\n",
       "      <th>33</th>\n",
       "      <th>34</th>\n",
       "      <th>35</th>\n",
       "      <th>36</th>\n",
       "    </tr>\n",
       "  </thead>\n",
       "  <tbody>\n",
       "    <tr>\n",
       "      <th>0</th>\n",
       "      <td>0.710145</td>\n",
       "      <td>0.710145</td>\n",
       "      <td>0.545143</td>\n",
       "      <td>0.166667</td>\n",
       "      <td>0.220339</td>\n",
       "      <td>0.000000</td>\n",
       "      <td>0.010938</td>\n",
       "      <td>0.487122</td>\n",
       "      <td>0.0</td>\n",
       "      <td>0.000</td>\n",
       "      <td>...</td>\n",
       "      <td>0.0</td>\n",
       "      <td>0.0</td>\n",
       "      <td>1.0</td>\n",
       "      <td>1.0</td>\n",
       "      <td>0.0</td>\n",
       "      <td>1.0</td>\n",
       "      <td>0.0</td>\n",
       "      <td>0.0</td>\n",
       "      <td>1.0</td>\n",
       "      <td>0.0</td>\n",
       "    </tr>\n",
       "    <tr>\n",
       "      <th>1</th>\n",
       "      <td>0.188406</td>\n",
       "      <td>0.188406</td>\n",
       "      <td>0.019229</td>\n",
       "      <td>0.166667</td>\n",
       "      <td>0.237288</td>\n",
       "      <td>0.000000</td>\n",
       "      <td>0.008270</td>\n",
       "      <td>0.357339</td>\n",
       "      <td>0.0</td>\n",
       "      <td>0.000</td>\n",
       "      <td>...</td>\n",
       "      <td>0.0</td>\n",
       "      <td>0.0</td>\n",
       "      <td>1.0</td>\n",
       "      <td>1.0</td>\n",
       "      <td>0.0</td>\n",
       "      <td>0.0</td>\n",
       "      <td>0.0</td>\n",
       "      <td>1.0</td>\n",
       "      <td>1.0</td>\n",
       "      <td>0.0</td>\n",
       "    </tr>\n",
       "    <tr>\n",
       "      <th>2</th>\n",
       "      <td>0.710145</td>\n",
       "      <td>0.710145</td>\n",
       "      <td>0.706429</td>\n",
       "      <td>0.500000</td>\n",
       "      <td>0.542373</td>\n",
       "      <td>0.000000</td>\n",
       "      <td>0.008937</td>\n",
       "      <td>0.262566</td>\n",
       "      <td>0.0</td>\n",
       "      <td>0.000</td>\n",
       "      <td>...</td>\n",
       "      <td>0.0</td>\n",
       "      <td>0.0</td>\n",
       "      <td>1.0</td>\n",
       "      <td>1.0</td>\n",
       "      <td>0.0</td>\n",
       "      <td>1.0</td>\n",
       "      <td>0.0</td>\n",
       "      <td>0.0</td>\n",
       "      <td>1.0</td>\n",
       "      <td>0.0</td>\n",
       "    </tr>\n",
       "    <tr>\n",
       "      <th>3</th>\n",
       "      <td>0.020290</td>\n",
       "      <td>0.020290</td>\n",
       "      <td>0.034286</td>\n",
       "      <td>0.333333</td>\n",
       "      <td>0.355932</td>\n",
       "      <td>1.000000</td>\n",
       "      <td>0.006803</td>\n",
       "      <td>0.136784</td>\n",
       "      <td>0.0</td>\n",
       "      <td>0.000</td>\n",
       "      <td>...</td>\n",
       "      <td>0.0</td>\n",
       "      <td>1.0</td>\n",
       "      <td>0.0</td>\n",
       "      <td>1.0</td>\n",
       "      <td>0.0</td>\n",
       "      <td>0.0</td>\n",
       "      <td>0.0</td>\n",
       "      <td>1.0</td>\n",
       "      <td>1.0</td>\n",
       "      <td>0.0</td>\n",
       "    </tr>\n",
       "    <tr>\n",
       "      <th>4</th>\n",
       "      <td>0.298551</td>\n",
       "      <td>0.298551</td>\n",
       "      <td>0.305486</td>\n",
       "      <td>0.333333</td>\n",
       "      <td>0.372881</td>\n",
       "      <td>0.555556</td>\n",
       "      <td>0.003868</td>\n",
       "      <td>0.290823</td>\n",
       "      <td>0.0</td>\n",
       "      <td>0.125</td>\n",
       "      <td>...</td>\n",
       "      <td>0.0</td>\n",
       "      <td>0.0</td>\n",
       "      <td>1.0</td>\n",
       "      <td>1.0</td>\n",
       "      <td>0.0</td>\n",
       "      <td>0.0</td>\n",
       "      <td>0.0</td>\n",
       "      <td>1.0</td>\n",
       "      <td>1.0</td>\n",
       "      <td>0.0</td>\n",
       "    </tr>\n",
       "  </tbody>\n",
       "</table>\n",
       "<p>5 rows × 37 columns</p>\n",
       "</div>"
      ],
      "text/plain": [
       "         0         1         2         3         4         5         6   \\\n",
       "0  0.710145  0.710145  0.545143  0.166667  0.220339  0.000000  0.010938   \n",
       "1  0.188406  0.188406  0.019229  0.166667  0.237288  0.000000  0.008270   \n",
       "2  0.710145  0.710145  0.706429  0.500000  0.542373  0.000000  0.008937   \n",
       "3  0.020290  0.020290  0.034286  0.333333  0.355932  1.000000  0.006803   \n",
       "4  0.298551  0.298551  0.305486  0.333333  0.372881  0.555556  0.003868   \n",
       "\n",
       "         7    8      9  ...    27   28   29   30   31   32   33   34   35   36  \n",
       "0  0.487122  0.0  0.000 ...   0.0  0.0  1.0  1.0  0.0  1.0  0.0  0.0  1.0  0.0  \n",
       "1  0.357339  0.0  0.000 ...   0.0  0.0  1.0  1.0  0.0  0.0  0.0  1.0  1.0  0.0  \n",
       "2  0.262566  0.0  0.000 ...   0.0  0.0  1.0  1.0  0.0  1.0  0.0  0.0  1.0  0.0  \n",
       "3  0.136784  0.0  0.000 ...   0.0  1.0  0.0  1.0  0.0  0.0  0.0  1.0  1.0  0.0  \n",
       "4  0.290823  0.0  0.125 ...   0.0  0.0  1.0  1.0  0.0  0.0  0.0  1.0  1.0  0.0  \n",
       "\n",
       "[5 rows x 37 columns]"
      ]
     },
     "execution_count": 61,
     "metadata": {},
     "output_type": "execute_result"
    }
   ],
   "source": [
    "X_train.head()"
   ]
  },
  {
   "cell_type": "code",
   "execution_count": 179,
   "metadata": {},
   "outputs": [
    {
     "data": {
      "image/png": "[encoded data removed]",
      "text/plain": [
       "<matplotlib.figure.Figure at 0x7f262b8a1198>"
      ]
     },
     "metadata": {},
     "output_type": "display_data"
    }
   ],
   "source": [
    "import matplotlib.pyplot as plt\n",
    "plt.hist(prediction)\n",
    "plt.show()"
   ]
  },
  {
   "cell_type": "markdown",
   "metadata": {},
   "source": [
    "Examine a boosting algorithm with default settings instead of a bagging method (RF)"
   ]
  },
  {
   "cell_type": "code",
   "execution_count": 181,
   "metadata": {
    "collapsed": true
   },
   "outputs": [],
   "source": [
    "from sklearn.ensemble import AdaBoostRegressor"
   ]
  },
  {
   "cell_type": "code",
   "execution_count": 182,
   "metadata": {
    "collapsed": true
   },
   "outputs": [],
   "source": [
    "est=AdaBoostRegressor(random_state=42)"
   ]
  },
  {
   "cell_type": "code",
   "execution_count": 183,
   "metadata": {},
   "outputs": [
    {
     "data": {
      "text/plain": [
       "AdaBoostRegressor(base_estimator=None, learning_rate=1.0, loss='linear',\n",
       "         n_estimators=50, random_state=42)"
      ]
     },
     "execution_count": 183,
     "metadata": {},
     "output_type": "execute_result"
    }
   ],
   "source": [
    "est.fit(X_train,Y_train)"
   ]
  },
  {
   "cell_type": "code",
   "execution_count": 185,
   "metadata": {},
   "outputs": [
    {
     "name": "stdout",
     "output_type": "stream",
     "text": [
      "score with the mean imputation on numerical variables= 0.94\n",
      "[ 0.1509832   0.0709794   0.14171013 ...,  0.15851094  0.14245031\n",
      "  0.13067043]\n"
     ]
    }
   ],
   "source": [
    "#print(est.oob_score_)\n",
    "#y_oob=estimator.oob_prediction_\n",
    "#print (\"C-stat: \", roc_auc_score(Y_train, estimator.oob_prediction_))\n",
    "print (\"score with the mean imputation on numerical variables= %.2f\" % score)\n",
    "\n",
    "prediction = est.predict(X_test)\n",
    "print (prediction)"
   ]
  },
  {
   "cell_type": "markdown",
   "metadata": {},
   "source": [
    "Results seem consistent for both models but I want to boost with Gradient Boosting Regressor"
   ]
  },
  {
   "cell_type": "code",
   "execution_count": null,
   "metadata": {
    "collapsed": true
   },
   "outputs": [],
   "source": [
    "from sklearn.ensemble import GradientBoostingRegressor\n",
    "\n",
    "est=GradientBoostingRegressor(n_estimators=500, learning_rate=0.1, max_depth=2, random_state=0, loss='ls').fit(X_train,Y_train)\n",
    "\n",
    "score=cross_val_score(est,X_train,Y_train,cv=8).mean()#I dont want to risk overfitting and using K folds\n",
    "print (score1)\n",
    "\n",
    "\n",
    "from sklearn.metrics import r2_score\n",
    "import numpy as np\n",
    "r2=r2_score(Y_train, est.predict(X_train))\n",
    "mse = np.mean(Y_train- est.predict(X_train)**2)\n",
    "print (r2,mse)\n",
    "prediction = est.predict(X_test)\n",
    "\n",
    "submission=pd.DataFrame({\"X1\":prediction})\n",
    "submission.to_csv('GradientBoost.csv',index=False)"
   ]
  },
  {
   "cell_type": "markdown",
   "metadata": {},
   "source": [
    "I ran above code in a different machine to save some processing time. Code output is as follows:\n",
    "0.94999715624\n",
    "0.97110366382  0.11814791188"
   ]
  },
  {
   "cell_type": "markdown",
   "metadata": {
    "collapsed": true
   },
   "source": [
    "FEATURE ENGINEERING"
   ]
  },
  {
   "cell_type": "code",
   "execution_count": null,
   "metadata": {
    "collapsed": true
   },
   "outputs": [],
   "source": [
    "%%timeit\n",
    "model=RandomForestRegressor(1000, oob_score=True, n_jobs=-1, random_state=42)\n",
    "model.fit(X_train,Y_train)"
   ]
  },
  {
   "cell_type": "code",
   "execution_count": null,
   "metadata": {
    "collapsed": true
   },
   "outputs": [],
   "source": [
    "%%timeit\n",
    "model=RandomForestRegressor(1000, oob_score=True, n_jobs=1, random_state=42)\n",
    "model.fit(X_train,Y_train)"
   ]
  },
  {
   "cell_type": "code",
   "execution_count": null,
   "metadata": {},
   "outputs": [
    {
     "name": "stdout",
     "output_type": "stream",
     "text": [
      "30 trees\n",
      "0.949957427922\n",
      "0.96891767578\n",
      "50 trees\n",
      "0.950348896704\n",
      "0.970185977692\n",
      "100 trees\n"
     ]
    }
   ],
   "source": [
    "results=[]\n",
    "n_estimator_options=[30,50,100,200,500,1000,2000]\n",
    "for trees in n_estimator_options:\n",
    "    model=RandomForestRegressor(trees, oob_score=True, n_jobs=-1, random_state=42)\n",
    "    model.fit(X_train,Y_train)\n",
    "    print (trees, \"trees\")\n",
    "    score=cross_val_score(model,X_train,Y_train,cv=10).mean()\n",
    "    print (score)\n",
    "    print(model.oob_score_)\n",
    "    results.append(model.oob_score_)\n",
    "pd.Series(results,n_estimator_options).plot();"
   ]
  },
  {
   "cell_type": "code",
   "execution_count": null,
   "metadata": {
    "collapsed": true
   },
   "outputs": [],
   "source": []
  }
 ],
 "metadata": {
  "anaconda-cloud": {},
  "kernelspec": {
   "display_name": "Python 3",
   "language": "python",
   "name": "python3"
  },
  "language_info": {
   "codemirror_mode": {
    "name": "ipython",
    "version": 3
   },
   "file_extension": ".py",
   "mimetype": "text/x-python",
   "name": "python",
   "nbconvert_exporter": "python",
   "pygments_lexer": "ipython3",
   "version": "3.7.2"
  }
 },
 "nbformat": 4,
 "nbformat_minor": 1
}
